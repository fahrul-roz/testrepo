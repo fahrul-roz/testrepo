{
  "metadata": {
    "language_info": {
      "codemirror_mode": {
        "name": "python",
        "version": 3
      },
      "file_extension": ".py",
      "mimetype": "text/x-python",
      "name": "python",
      "nbconvert_exporter": "python",
      "pygments_lexer": "ipython3",
      "version": "3.8"
    },
    "kernelspec": {
      "name": "python",
      "display_name": "Python (Pyodide)",
      "language": "python"
    }
  },
  "nbformat_minor": 4,
  "nbformat": 4,
  "cells": [
    {
      "cell_type": "code",
      "source": "### Below are a few examples of evaluating arithmetic expressions in Python.\n# Addition\nprint(1 + 2)\n\n# Subtraction\nprint(5 - 3)\n\n# Multiplication\nprint(2 * 3)\n\n# Division\nprint(6 / 2)\n\n# Exponentiation\nprint(2 ** 3)\n\n# Modulus\nprint(10 % 3)",
      "metadata": {},
      "execution_count": null,
      "outputs": []
    },
    {
      "cell_type": "markdown",
      "source": "# This a simple arithmetic expression to mutiply then add integers.\nprint((3*4)+5)\n",
      "metadata": {}
    },
    {
      "cell_type": "markdown",
      "source": "# This will convert 200 minutes to hours by diving by 60.\nhours = 200 / 60\n\nprint(hours)",
      "metadata": {}
    },
    {
      "cell_type": "markdown",
      "source": "## Objectives:\n\n* List popular languages for Data Science\n* List commonly used libraries in Data Science\n* Describe development environment open source tools used in Data Science\n* Evaluate arithmetic expressions in Python\n* Convert minutes to hours in Python",
      "metadata": {}
    },
    {
      "cell_type": "markdown",
      "source": "## Objectives:\n\n* List popular languages for Data Science\n* List commonly used libraries in Data Science\n* Describe development environment open source tools used in Data Science\n* Evaluate arithmetic expressions in Python\n* Convert minutes to hours in Python",
      "metadata": {}
    },
    {
      "cell_type": "markdown",
      "source": "## Author\n\nfahrul rozi\n",
      "metadata": {}
    },
    {
      "cell_type": "markdown",
      "source": "## Author\n\nfahrul rozi\n",
      "metadata": {}
    }
  ]
}